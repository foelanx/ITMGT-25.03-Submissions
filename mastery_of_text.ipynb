{
 "cells": [
  {
   "cell_type": "code",
   "execution_count": 2,
   "id": "3d296218-29b2-4864-a16e-9cd81390fc47",
   "metadata": {},
   "outputs": [
    {
     "name": "stdout",
     "output_type": "stream",
     "text": [
      "Total number of lines: 99969\n",
      "Total number of alphabetic words: 795227\n",
      "The word 'apostle' appears: 47 times\n",
      "The most used word is 'the' with 64309 occurrences.\n"
     ]
    }
   ],
   "source": [
    "import urllib.request\n",
    "\n",
    "link = \"https://www.gutenberg.org/cache/epub/10/pg10.txt\"\n",
    "with urllib.request.urlopen(link) as response:\n",
    "    raw_text = response.read().decode('utf-8')\n",
    "\n",
    "pg10 = raw_text\n",
    "\n",
    "line_count = pg10.count('\\n') + 1  # Adding 1 since last line may not end with \\n\n",
    "print(\"Total number of lines:\", line_count)\n",
    "\n",
    "import re\n",
    "\n",
    "word_list = re.findall(r'[A-Za-z]+', pg10)\n",
    "total_words = len(word_list)\n",
    "print(\"Total number of alphabetic words:\", total_words)\n",
    "\n",
    "apostle_occurrences = sum(1 for w in word_list if w.lower() == 'apostle')\n",
    "print(\"The word 'apostle' appears:\", apostle_occurrences, \"times\")\n",
    "\n",
    "word_bank = {}\n",
    "\n",
    "for item in word_list:\n",
    "    key = item.lower()\n",
    "    word_bank[key] = word_bank.get(key, 0) + 1\n",
    "\n",
    "# Sort by frequency\n",
    "sorted_words = sorted(word_bank.items(), key=lambda x: x[1], reverse=True)\n",
    "most_frequent = sorted_words[0]\n",
    "\n",
    "print(f\"The most used word is '{most_frequent[0]}' with {most_frequent[1]} occurrences.\")"
   ]
  },
  {
   "cell_type": "code",
   "execution_count": 3,
   "id": "65330262-68ac-4db2-911f-57e9541ed075",
   "metadata": {},
   "outputs": [
    {
     "ename": "NameError",
     "evalue": "name 'git' is not defined",
     "output_type": "error",
     "traceback": [
      "\u001b[1;31m---------------------------------------------------------------------------\u001b[0m",
      "\u001b[1;31mNameError\u001b[0m                                 Traceback (most recent call last)",
      "Cell \u001b[1;32mIn[3], line 1\u001b[0m\n\u001b[1;32m----> 1\u001b[0m git \u001b[38;5;241m-\u001b[39m\u001b[38;5;241m-\u001b[39mversion\n",
      "\u001b[1;31mNameError\u001b[0m: name 'git' is not defined"
     ]
    }
   ],
   "source": [
    "git --version"
   ]
  },
  {
   "cell_type": "code",
   "execution_count": null,
   "id": "50c5cf3c-1e82-4153-97d6-ea36c2a74022",
   "metadata": {},
   "outputs": [],
   "source": []
  }
 ],
 "metadata": {
  "kernelspec": {
   "display_name": "Python [conda env:base] *",
   "language": "python",
   "name": "conda-base-py"
  },
  "language_info": {
   "codemirror_mode": {
    "name": "ipython",
    "version": 3
   },
   "file_extension": ".py",
   "mimetype": "text/x-python",
   "name": "python",
   "nbconvert_exporter": "python",
   "pygments_lexer": "ipython3",
   "version": "3.12.7"
  }
 },
 "nbformat": 4,
 "nbformat_minor": 5
}
